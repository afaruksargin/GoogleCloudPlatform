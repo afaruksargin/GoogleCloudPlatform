{
  "cells": [
    {
      "cell_type": "code",
      "execution_count": 1,
      "metadata": {
        "colab": {
          "base_uri": "https://localhost:8080/"
        },
        "id": "kv1cpsVNVPpD",
        "outputId": "51494102-758c-4980-f82c-7c533e1aa810"
      },
      "outputs": [
        {
          "name": "stdout",
          "output_type": "stream",
          "text": [
            "Collecting apache_beam\n",
            "  Downloading apache_beam-2.49.0-cp310-cp310-manylinux_2_17_x86_64.manylinux2014_x86_64.whl (14.6 MB)\n",
            "\u001b[2K     \u001b[90m━━━━━━━━━━━━━━━━━━━━━━━━━━━━━━━━━━━━━━━━\u001b[0m \u001b[32m14.6/14.6 MB\u001b[0m \u001b[31m35.0 MB/s\u001b[0m eta \u001b[36m0:00:00\u001b[0m\n",
            "\u001b[?25hCollecting crcmod<2.0,>=1.7 (from apache_beam)\n",
            "  Downloading crcmod-1.7.tar.gz (89 kB)\n",
            "\u001b[2K     \u001b[90m━━━━━━━━━━━━━━━━━━━━━━━━━━━━━━━━━━━━━━━━\u001b[0m \u001b[32m89.7/89.7 kB\u001b[0m \u001b[31m9.6 MB/s\u001b[0m eta \u001b[36m0:00:00\u001b[0m\n",
            "\u001b[?25h  Preparing metadata (setup.py) ... \u001b[?25l\u001b[?25hdone\n",
            "Collecting orjson<4.0 (from apache_beam)\n",
            "  Downloading orjson-3.9.4-cp310-cp310-manylinux_2_17_x86_64.manylinux2014_x86_64.whl (140 kB)\n",
            "\u001b[2K     \u001b[90m━━━━━━━━━━━━━━━━━━━━━━━━━━━━━━━━━━━━━━\u001b[0m \u001b[32m140.3/140.3 kB\u001b[0m \u001b[31m12.1 MB/s\u001b[0m eta \u001b[36m0:00:00\u001b[0m\n",
            "\u001b[?25hCollecting dill<0.3.2,>=0.3.1.1 (from apache_beam)\n",
            "  Downloading dill-0.3.1.1.tar.gz (151 kB)\n",
            "\u001b[2K     \u001b[90m━━━━━━━━━━━━━━━━━━━━━━━━━━━━━━━━━━━━━━\u001b[0m \u001b[32m152.0/152.0 kB\u001b[0m \u001b[31m13.2 MB/s\u001b[0m eta \u001b[36m0:00:00\u001b[0m\n",
            "\u001b[?25h  Preparing metadata (setup.py) ... \u001b[?25l\u001b[?25hdone\n",
            "Requirement already satisfied: cloudpickle~=2.2.1 in /usr/local/lib/python3.10/dist-packages (from apache_beam) (2.2.1)\n",
            "Collecting fastavro<2,>=0.23.6 (from apache_beam)\n",
            "  Downloading fastavro-1.8.2-cp310-cp310-manylinux_2_17_x86_64.manylinux2014_x86_64.whl (2.7 MB)\n",
            "\u001b[2K     \u001b[90m━━━━━━━━━━━━━━━━━━━━━━━━━━━━━━━━━━━━━━━━\u001b[0m \u001b[32m2.7/2.7 MB\u001b[0m \u001b[31m47.6 MB/s\u001b[0m eta \u001b[36m0:00:00\u001b[0m\n",
            "\u001b[?25hCollecting fasteners<1.0,>=0.3 (from apache_beam)\n",
            "  Downloading fasteners-0.18-py3-none-any.whl (18 kB)\n",
            "Requirement already satisfied: grpcio!=1.48.0,<2,>=1.33.1 in /usr/local/lib/python3.10/dist-packages (from apache_beam) (1.56.2)\n",
            "Collecting hdfs<3.0.0,>=2.1.0 (from apache_beam)\n",
            "  Downloading hdfs-2.7.2.tar.gz (43 kB)\n",
            "\u001b[2K     \u001b[90m━━━━━━━━━━━━━━━━━━━━━━━━━━━━━━━━━━━━━━━━\u001b[0m \u001b[32m43.4/43.4 kB\u001b[0m \u001b[31m4.7 MB/s\u001b[0m eta \u001b[36m0:00:00\u001b[0m\n",
            "\u001b[?25h  Preparing metadata (setup.py) ... \u001b[?25l\u001b[?25hdone\n",
            "Requirement already satisfied: httplib2<0.23.0,>=0.8 in /usr/local/lib/python3.10/dist-packages (from apache_beam) (0.22.0)\n",
            "Requirement already satisfied: numpy<1.25.0,>=1.14.3 in /usr/local/lib/python3.10/dist-packages (from apache_beam) (1.23.5)\n",
            "Collecting objsize<0.7.0,>=0.6.1 (from apache_beam)\n",
            "  Downloading objsize-0.6.1-py3-none-any.whl (9.3 kB)\n",
            "Collecting pymongo<5.0.0,>=3.8.0 (from apache_beam)\n",
            "  Downloading pymongo-4.4.1-cp310-cp310-manylinux_2_17_x86_64.manylinux2014_x86_64.whl (603 kB)\n",
            "\u001b[2K     \u001b[90m━━━━━━━━━━━━━━━━━━━━━━━━━━━━━━━━━━━━━━\u001b[0m \u001b[32m603.6/603.6 kB\u001b[0m \u001b[31m42.8 MB/s\u001b[0m eta \u001b[36m0:00:00\u001b[0m\n",
            "\u001b[?25hRequirement already satisfied: proto-plus<2,>=1.7.1 in /usr/local/lib/python3.10/dist-packages (from apache_beam) (1.22.3)\n",
            "Requirement already satisfied: protobuf<4.24.0,>=3.20.3 in /usr/local/lib/python3.10/dist-packages (from apache_beam) (3.20.3)\n",
            "Requirement already satisfied: pydot<2,>=1.2.0 in /usr/local/lib/python3.10/dist-packages (from apache_beam) (1.4.2)\n",
            "Requirement already satisfied: python-dateutil<3,>=2.8.0 in /usr/local/lib/python3.10/dist-packages (from apache_beam) (2.8.2)\n",
            "Requirement already satisfied: pytz>=2018.3 in /usr/local/lib/python3.10/dist-packages (from apache_beam) (2023.3)\n",
            "Requirement already satisfied: regex>=2020.6.8 in /usr/local/lib/python3.10/dist-packages (from apache_beam) (2023.6.3)\n",
            "Requirement already satisfied: requests<3.0.0,>=2.24.0 in /usr/local/lib/python3.10/dist-packages (from apache_beam) (2.31.0)\n",
            "Requirement already satisfied: typing-extensions>=3.7.0 in /usr/local/lib/python3.10/dist-packages (from apache_beam) (4.7.1)\n",
            "Collecting zstandard<1,>=0.18.0 (from apache_beam)\n",
            "  Downloading zstandard-0.21.0-cp310-cp310-manylinux_2_17_x86_64.manylinux2014_x86_64.whl (2.7 MB)\n",
            "\u001b[2K     \u001b[90m━━━━━━━━━━━━━━━━━━━━━━━━━━━━━━━━━━━━━━━━\u001b[0m \u001b[32m2.7/2.7 MB\u001b[0m \u001b[31m60.6 MB/s\u001b[0m eta \u001b[36m0:00:00\u001b[0m\n",
            "\u001b[?25hRequirement already satisfied: pyarrow<12.0.0,>=3.0.0 in /usr/local/lib/python3.10/dist-packages (from apache_beam) (9.0.0)\n",
            "Collecting docopt (from hdfs<3.0.0,>=2.1.0->apache_beam)\n",
            "  Downloading docopt-0.6.2.tar.gz (25 kB)\n",
            "  Preparing metadata (setup.py) ... \u001b[?25l\u001b[?25hdone\n",
            "Requirement already satisfied: six>=1.9.0 in /usr/local/lib/python3.10/dist-packages (from hdfs<3.0.0,>=2.1.0->apache_beam) (1.16.0)\n",
            "Requirement already satisfied: pyparsing!=3.0.0,!=3.0.1,!=3.0.2,!=3.0.3,<4,>=2.4.2 in /usr/local/lib/python3.10/dist-packages (from httplib2<0.23.0,>=0.8->apache_beam) (3.1.1)\n",
            "Collecting dnspython<3.0.0,>=1.16.0 (from pymongo<5.0.0,>=3.8.0->apache_beam)\n",
            "  Downloading dnspython-2.4.2-py3-none-any.whl (300 kB)\n",
            "\u001b[2K     \u001b[90m━━━━━━━━━━━━━━━━━━━━━━━━━━━━━━━━━━━━━━\u001b[0m \u001b[32m300.4/300.4 kB\u001b[0m \u001b[31m26.0 MB/s\u001b[0m eta \u001b[36m0:00:00\u001b[0m\n",
            "\u001b[?25hRequirement already satisfied: charset-normalizer<4,>=2 in /usr/local/lib/python3.10/dist-packages (from requests<3.0.0,>=2.24.0->apache_beam) (3.2.0)\n",
            "Requirement already satisfied: idna<4,>=2.5 in /usr/local/lib/python3.10/dist-packages (from requests<3.0.0,>=2.24.0->apache_beam) (3.4)\n",
            "Requirement already satisfied: urllib3<3,>=1.21.1 in /usr/local/lib/python3.10/dist-packages (from requests<3.0.0,>=2.24.0->apache_beam) (2.0.4)\n",
            "Requirement already satisfied: certifi>=2017.4.17 in /usr/local/lib/python3.10/dist-packages (from requests<3.0.0,>=2.24.0->apache_beam) (2023.7.22)\n",
            "Building wheels for collected packages: crcmod, dill, hdfs, docopt\n",
            "  Building wheel for crcmod (setup.py) ... \u001b[?25l\u001b[?25hdone\n",
            "  Created wheel for crcmod: filename=crcmod-1.7-cp310-cp310-linux_x86_64.whl size=31404 sha256=56d9eceaba6fe381b76c1e1840e01e4faa6b7f49054dd6689b67eee7948a0544\n",
            "  Stored in directory: /root/.cache/pip/wheels/85/4c/07/72215c529bd59d67e3dac29711d7aba1b692f543c808ba9e86\n",
            "  Building wheel for dill (setup.py) ... \u001b[?25l\u001b[?25hdone\n",
            "  Created wheel for dill: filename=dill-0.3.1.1-py3-none-any.whl size=78541 sha256=e7d83460eebeac68debfc0f29db8e2384b43cc5a85183be3d126448065509bd4\n",
            "  Stored in directory: /root/.cache/pip/wheels/ea/e2/86/64980d90e297e7bf2ce588c2b96e818f5399c515c4bb8a7e4f\n",
            "  Building wheel for hdfs (setup.py) ... \u001b[?25l\u001b[?25hdone\n",
            "  Created wheel for hdfs: filename=hdfs-2.7.2-py3-none-any.whl size=34168 sha256=b3a47b8a69eff7b326401cf1afed02d60580fe6fbf12c3bcf5e0e82b413a18b8\n",
            "  Stored in directory: /root/.cache/pip/wheels/ab/39/8e/e1905de9af8ae74911cd3e53e721995cd230816f63776e5825\n",
            "  Building wheel for docopt (setup.py) ... \u001b[?25l\u001b[?25hdone\n",
            "  Created wheel for docopt: filename=docopt-0.6.2-py2.py3-none-any.whl size=13706 sha256=b8c2b8aa893de3f2e8d648abadb0024a7c2374cbc5e428102abfc931a9e1c296\n",
            "  Stored in directory: /root/.cache/pip/wheels/fc/ab/d4/5da2067ac95b36618c629a5f93f809425700506f72c9732fac\n",
            "Successfully built crcmod dill hdfs docopt\n",
            "Installing collected packages: docopt, crcmod, zstandard, orjson, objsize, fasteners, fastavro, dnspython, dill, pymongo, hdfs, apache_beam\n",
            "Successfully installed apache_beam-2.49.0 crcmod-1.7 dill-0.3.1.1 dnspython-2.4.2 docopt-0.6.2 fastavro-1.8.2 fasteners-0.18 hdfs-2.7.2 objsize-0.6.1 orjson-3.9.4 pymongo-4.4.1 zstandard-0.21.0\n"
          ]
        }
      ],
      "source": [
        "pip install apache_beam"
      ]
    },
    {
      "cell_type": "markdown",
      "metadata": {
        "id": "eM93ZBkX4fGg"
      },
      "source": [
        "APACHE BEAM TRANSFORM CATALOG ELEMENT-WISE ORNEKLERİ VE KULLANIMLARI"
      ]
    },
    {
      "cell_type": "markdown",
      "metadata": {
        "id": "h9L57KvO6mSw"
      },
      "source": [
        "# FİLTER\n",
        "\n",
        "Bu fonksiyon geneler olarak apache-beam ile çalışırken veriler içinde belirli bir ayrıma göre verilerinizi seçmek sınıflandırmak için kullanabileceğiniz bir yöntemdir. Oluşturduğunuz Data Pipeline içinde bu verileri filtreleyerek bir sonraki koloksiyonunuzda kullanabileceğiniz bir hale getirebilirsiniz. alternetif kullanımları aşağıda gösterilmiştir. referans: https://beam.apache.org/documentation/transforms/python/elementwise/filter/"
      ]
    },
    {
      "cell_type": "code",
      "execution_count": 2,
      "metadata": {
        "id": "ypCG2AiP4eQR"
      },
      "outputs": [],
      "source": [
        "import apache_beam as beam"
      ]
    },
    {
      "cell_type": "code",
      "execution_count": 3,
      "metadata": {
        "colab": {
          "base_uri": "https://localhost:8080/",
          "height": 111
        },
        "id": "HfUDX6Tw6-LU",
        "outputId": "9cc732c7-47e6-4097-d594-0ddcbcd7be4c"
      },
      "outputs": [
        {
          "name": "stderr",
          "output_type": "stream",
          "text": [
            "WARNING:apache_beam.runners.interactive.interactive_environment:Dependencies required for Interactive Beam PCollection visualization are not available, please use: `pip install apache-beam[interactive]` to install necessary dependencies to enable all data visualization features.\n"
          ]
        },
        {
          "data": {
            "application/javascript": "\n        if (typeof window.interactive_beam_jquery == 'undefined') {\n          var jqueryScript = document.createElement('script');\n          jqueryScript.src = 'https://code.jquery.com/jquery-3.4.1.slim.min.js';\n          jqueryScript.type = 'text/javascript';\n          jqueryScript.onload = function() {\n            var datatableScript = document.createElement('script');\n            datatableScript.src = 'https://cdn.datatables.net/1.10.20/js/jquery.dataTables.min.js';\n            datatableScript.type = 'text/javascript';\n            datatableScript.onload = function() {\n              window.interactive_beam_jquery = jQuery.noConflict(true);\n              window.interactive_beam_jquery(document).ready(function($){\n                \n              });\n            }\n            document.head.appendChild(datatableScript);\n          };\n          document.head.appendChild(jqueryScript);\n        } else {\n          window.interactive_beam_jquery(document).ready(function($){\n            \n          });\n        }"
          },
          "metadata": {},
          "output_type": "display_data"
        },
        {
          "name": "stdout",
          "output_type": "stream",
          "text": [
            "{'name': 'Hakan', 'response': 'evet'}\n",
            "{'name': 'Fatma', 'response': 'evet'}\n",
            "{'name': 'Faruk', 'response': 'evet'}\n"
          ]
        }
      ],
      "source": [
        "\"\"\"\n",
        "Bu kullanımda bir sözlük yapısında olan verilerimiz ile çalışıyoruz. Her zaman szölük yapısına uygun veriler ile çalışmayabiliriz ama filtreleme işlemleri için her zaman\n",
        "sözlük yapısna uygun şekilde dönüştürülmüş veriler kolaylık sağlamaktadır. responsu evet olan verileri filtreliyoruz.\n",
        "\"\"\"\n",
        "def is_yes(data):\n",
        "  return data['response'] == 'evet' # responseları sadece evet olanları döndürüyor\n",
        "\n",
        "with beam.Pipeline() as pipeline:\n",
        "  evet_collection = ( #tanımlanan datalarda responsları evet olanları evet_collection collection olarak atayan pipeline oluşturuyoruz.\n",
        "      pipeline\n",
        "      | 'OrnekData' >> beam.Create([\n",
        "          {\n",
        "                'name': 'Hakan', 'response': 'evet'\n",
        "            },\n",
        "            {\n",
        "               'name': 'Mehmet', 'response': 'hayır'\n",
        "            },\n",
        "            {\n",
        "                'name': 'Ayşe', 'response': 'hayır'\n",
        "            },\n",
        "            {\n",
        "                'name': 'Fatma', 'response': 'evet'\n",
        "            },\n",
        "            {\n",
        "                 'name': 'Faruk', 'response': 'evet'\n",
        "            },\n",
        "      ])\n",
        "      | 'Filter Data' >> beam.Filter(is_yes)\n",
        "      | beam.Map(print)\n",
        "  )"
      ]
    },
    {
      "cell_type": "code",
      "execution_count": 4,
      "metadata": {
        "colab": {
          "base_uri": "https://localhost:8080/"
        },
        "id": "O6BYHrfA6-VV",
        "outputId": "81254c16-d61f-4a13-b723-6021f5a55269"
      },
      "outputs": [
        {
          "name": "stdout",
          "output_type": "stream",
          "text": [
            "{'name': 'Hakan', 'response': 'evet'}\n",
            "{'name': 'Fatma', 'response': 'evet'}\n",
            "{'name': 'Faruk', 'response': 'evet'}\n"
          ]
        }
      ],
      "source": [
        "#YUKARIDA YAPMIŞ OLDUĞUMUZ İŞLEMİ LAMBDA FONKSİYONU OLARAK OLUŞTURALIM.\n",
        "\n",
        "with beam.Pipeline() as pipeline:\n",
        "  evet_collection = ( #tanımlanan datalarda responsları evet olanları evet_collection collection olarak atayan pipeline oluşturuyoruz.\n",
        "      pipeline\n",
        "      | 'OrnekData' >> beam.Create([\n",
        "          {\n",
        "                'name': 'Hakan', 'response': 'evet'\n",
        "            },\n",
        "            {\n",
        "               'name': 'Mehmet', 'response': 'hayır'\n",
        "            },\n",
        "            {\n",
        "                'name': 'Ayşe', 'response': 'hayır'\n",
        "            },\n",
        "            {\n",
        "                'name': 'Fatma', 'response': 'evet'\n",
        "            },\n",
        "            {\n",
        "                 'name': 'Faruk', 'response': 'evet'\n",
        "            },\n",
        "      ])\n",
        "      | 'Filter Data' >> beam.Filter(lambda data : data['response'] == 'evet' )\n",
        "      | beam.Map(print)\n",
        "  )"
      ]
    },
    {
      "cell_type": "code",
      "execution_count": 5,
      "metadata": {
        "colab": {
          "base_uri": "https://localhost:8080/"
        },
        "id": "QgSjdn8cBOql",
        "outputId": "fe9b81ed-34cd-43ce-f786-61e335169532"
      },
      "outputs": [
        {
          "name": "stdout",
          "output_type": "stream",
          "text": [
            "{'name': 'Hakan', 'response': 'evet'}\n",
            "{'name': 'Fatma', 'response': 'evet'}\n",
            "{'name': 'Faruk', 'response': 'evet'}\n"
          ]
        }
      ],
      "source": [
        "\"\"\"\n",
        "Yukarda kullanılan yöntemlerden farklı olarak aşağıdaki iki örnekte Data Pipeline içindeki farklı koleksiyondaki değere göre bi filtreleme işlemi yapıyoruz.\n",
        "\"\"\"\n",
        "with beam.Pipeline() as pipeline:\n",
        "  referans_collection = pipeline | 'evet' >> beam.Create(['evet'])\n",
        "\n",
        "  data = (\n",
        "      pipeline\n",
        "      | 'OrnekData' >> beam.Create([\n",
        "          {\n",
        "                'name': 'Hakan', 'response': 'evet'\n",
        "            },\n",
        "            {\n",
        "               'name': 'Mehmet', 'response': 'hayır'\n",
        "            },\n",
        "            {\n",
        "                'name': 'Ayşe', 'response': 'hayır'\n",
        "            },\n",
        "            {\n",
        "                'name': 'Fatma', 'response': 'evet'\n",
        "            },\n",
        "            {\n",
        "                 'name': 'Faruk', 'response': 'evet'\n",
        "            },\n",
        "      ])\n",
        "      | 'Filter evet' >> beam.Filter(\n",
        "          lambda data,\n",
        "          response : data['response'] == response, #datamız içindeki response değerini yukarıda tanımladığımız collection içerisinden alarak işlemimizi gerçekleştiriyoruz\n",
        "          response = beam.pvalue.AsSingleton(referans_collection),\n",
        "      )\n",
        "      | beam.Map(print)\n",
        "  )"
      ]
    },
    {
      "cell_type": "code",
      "execution_count": 6,
      "metadata": {
        "colab": {
          "base_uri": "https://localhost:8080/"
        },
        "id": "yDKsEYbjI_1W",
        "outputId": "bc3af5ca-fbc5-4fb6-8986-69954782ba91"
      },
      "outputs": [
        {
          "name": "stdout",
          "output_type": "stream",
          "text": [
            "{'name': 'Hakan', 'response': 'evet'}\n",
            "{'name': 'Fatma', 'response': 'evet'}\n",
            "{'name': 'Faruk', 'response': 'evet'}\n",
            "{'name': 'Faruk', 'response': 'belki'}\n"
          ]
        }
      ],
      "source": [
        "with beam.Pipeline() as pipeline:\n",
        "  iterable_value = pipeline | 'İterable Value Create' >> beam.Create([\n",
        "      'evet',\n",
        "      'belki',\n",
        "  ])\n",
        "  data = (\n",
        "      pipeline\n",
        "      | 'OrnekData' >> beam.Create([\n",
        "          {\n",
        "                'name': 'Hakan', 'response': 'evet'\n",
        "            },\n",
        "            {\n",
        "               'name': 'Mehmet', 'response': 'hayır'\n",
        "            },\n",
        "            {\n",
        "                'name': 'Ayşe', 'response': 'hayır'\n",
        "            },\n",
        "            {\n",
        "                'name': 'Fatma', 'response': 'evet'\n",
        "            },\n",
        "            {\n",
        "                 'name': 'Faruk', 'response': 'evet'\n",
        "            },\n",
        "            {\n",
        "                 'name': 'Faruk', 'response': 'belki'\n",
        "            },\n",
        "      ])\n",
        "      | 'Filter evet' >> beam.Filter(\n",
        "          lambda data,\n",
        "          response : data['response'] in response , #datamız içindeki response değerini yukarıda tanımladığımız collection (birden fazla iterable seçenekler için) içerisinden alarak işlemimizi gerçekleştiriyoruz\n",
        "          response = beam.pvalue.AsIter(iterable_value),\n",
        "      )\n",
        "      | beam.Map(print)\n",
        "  )"
      ]
    },
    {
      "cell_type": "code",
      "execution_count": 7,
      "metadata": {
        "colab": {
          "base_uri": "https://localhost:8080/"
        },
        "id": "d-RoiD_PXSd-",
        "outputId": "60cfadd8-981d-4d7d-8226-930512ad8f50"
      },
      "outputs": [
        {
          "name": "stdout",
          "output_type": "stream",
          "text": [
            "{'name': 'Mehmet', 'response': 'hayır'}\n",
            "{'name': 'Ayşe', 'response': 'hayır'}\n",
            "{'name': 'Faruk', 'response': 'belki'}\n"
          ]
        }
      ],
      "source": [
        "with beam.Pipeline() as pipeline:\n",
        "  keep_value = pipeline | 'keep Value Create' >> beam.Create([\n",
        "      ('evet',False),\n",
        "      ('belki',True),\n",
        "      ('hayır',True),\n",
        "  ])\n",
        "  data = (\n",
        "      pipeline\n",
        "      | 'OrnekData' >> beam.Create([\n",
        "          {\n",
        "                'name': 'Hakan', 'response': 'evet'\n",
        "            },\n",
        "            {\n",
        "               'name': 'Mehmet', 'response': 'hayır'\n",
        "            },\n",
        "            {\n",
        "                'name': 'Ayşe', 'response': 'hayır'\n",
        "            },\n",
        "            {\n",
        "                'name': 'Fatma', 'response': 'evet'\n",
        "            },\n",
        "            {\n",
        "                 'name': 'Faruk', 'response': 'evet'\n",
        "            },\n",
        "            {\n",
        "                 'name': 'Faruk', 'response': 'belki'\n",
        "            },\n",
        "      ])\n",
        "      | 'Filter evet' >> beam.Filter(\n",
        "          lambda data,\n",
        "          response : response[data['response']] ,\n",
        "          response = beam.pvalue.AsDict(keep_value),\n",
        "      )\n",
        "      | beam.Map(print)\n",
        "  )"
      ]
    },
    {
      "cell_type": "markdown",
      "metadata": {
        "id": "dqyhv5zGY7Ix"
      },
      "source": [
        "# FlatMap Fonksiyonu ve Örnek Kullanımları\n",
        "FlatMap, Apache Beam içindeki bir dönüşüm işlemidir ve veri akışındaki her öğe için bir veya daha fazla çıktı üretebilmenizi sağlar. Her girdi öğesi için birden çok çıktı öğesi üretmek için kullanılırken, Map işlemi yalnızca her girdi öğesi için bir çıktı üretir.\n",
        "\n",
        "FlatMap işlemi, özellikle bir girdi öğesinden birden fazla çıktı öğesi üretmeniz gereken durumlarda faydalıdır. Örneğin, bir metin içindeki kelimeleri ayırarak her kelimeyi ayrı bir öğe olarak çıkartmak veya bir öğe içindeki alt öğeleri çıkartarak her alt öğeyi ayrı bir çıktı olarak üretmek gibi senaryolarda kullanışlıdır."
      ]
    },
    {
      "cell_type": "code",
      "execution_count": 8,
      "metadata": {
        "colab": {
          "base_uri": "https://localhost:8080/"
        },
        "id": "uVh4TTkYZC2H",
        "outputId": "772d8d72-eae1-4d5f-beff-6dda99afbace"
      },
      "outputs": [
        {
          "name": "stdout",
          "output_type": "stream",
          "text": [
            "ahmet\n",
            "mehmet\n",
            "mustafa\n",
            "ali\n",
            "veli\n"
          ]
        }
      ],
      "source": [
        "\"\"\"\n",
        "Tanımlanan her bir datayı ',' le göre ayırarak her biri üstünde ayrı ayrı işlem yapmak için kullanılabilir\n",
        "\"\"\"\n",
        "with beam.Pipeline() as pipeline:\n",
        "  data = (\n",
        "      pipeline\n",
        "      | 'Create' >> beam.Create([\n",
        "          'ahmet','mehmet','mustafa','ali','veli',\n",
        "      ])\n",
        "      | 'Split Words' >> beam.FlatMap(str.split)\n",
        "      | beam.Map(print)\n",
        "  )"
      ]
    },
    {
      "cell_type": "code",
      "execution_count": 31,
      "metadata": {
        "colab": {
          "base_uri": "https://localhost:8080/"
        },
        "id": "X5Rd0dQpcYpU",
        "outputId": "e4dcafe2-220b-4943-977a-1f46890e6de5"
      },
      "outputs": [
        {
          "name": "stdout",
          "output_type": "stream",
          "text": [
            "ahmet\n",
            "mehmet\n",
            "mustafa\n",
            "ali\n",
            "veli\n"
          ]
        }
      ],
      "source": [
        "def split_words(text):\n",
        "  return text.split(',')\n",
        "\n",
        "with beam.Pipeline() as pipeline:\n",
        "  data = (\n",
        "      pipeline\n",
        "      | 'Create' >> beam.Create([\n",
        "          'ahmet','mehmet','mustafa','ali','veli',\n",
        "      ])\n",
        "      | 'Split Words' >> beam.FlatMap(split_words)\n",
        "      | beam.Map(print)\n",
        "  )"
      ]
    },
    {
      "cell_type": "code",
      "execution_count": 29,
      "metadata": {
        "colab": {
          "base_uri": "https://localhost:8080/"
        },
        "id": "Kk15FQ4CcoTA",
        "outputId": "4bdfdfa0-1fa5-4847-aeb5-2df01c46c13f"
      },
      "outputs": [
        {
          "name": "stdout",
          "output_type": "stream",
          "text": [
            "ahmet\n",
            "mehmet\n",
            "mustafa\n",
            "ali\n",
            "veli\n",
            "ahmet\n",
            "mehmet\n",
            "mustafa\n",
            "ali\n",
            "veli\n"
          ]
        }
      ],
      "source": [
        "\"\"\"\n",
        "Liste şeklinde tanımlanan veriyi ayırmak için kullanılabilir\n",
        "\"\"\"\n",
        "with beam.Pipeline() as pipeline:\n",
        "  data = (\n",
        "      pipeline\n",
        "      | 'Create' >> beam.Create([\n",
        "          ['ahmet','mehmet','mustafa','ali','veli'],\n",
        "          ['ahmet','mehmet','mustafa','ali','veli'],\n",
        "      ])\n",
        "      | 'Flatten list' >> beam.FlatMap(lambda elements : elements)\n",
        "      | beam.Map(print)\n",
        "  )"
      ]
    },
    {
      "cell_type": "code",
      "execution_count": 11,
      "metadata": {
        "colab": {
          "base_uri": "https://localhost:8080/"
        },
        "id": "_6zIDHWPdaPx",
        "outputId": "8836d08d-104a-4914-a31d-f2163a27c042"
      },
      "outputs": [
        {
          "name": "stdout",
          "output_type": "stream",
          "text": [
            "ahmet\n",
            "mehmet\n",
            "mustafa\n",
            "ali\n",
            "veli\n"
          ]
        }
      ],
      "source": [
        "def generate_elements(elements):\n",
        "  for element in elements:\n",
        "    yield element\n",
        "\n",
        "with beam.Pipeline() as pipeline:\n",
        "  data = (\n",
        "      pipeline\n",
        "      | 'Create' >> beam.Create([\n",
        "          ['ahmet','mehmet','mustafa'],\n",
        "           ['ali','veli'],\n",
        "      ])\n",
        "      | 'Flatten list' >> beam.FlatMap(generate_elements)\n",
        "      | beam.Map(print)\n",
        "  )"
      ]
    },
    {
      "cell_type": "code",
      "execution_count": 12,
      "metadata": {
        "colab": {
          "base_uri": "https://localhost:8080/"
        },
        "id": "ec88GJ82f7v8",
        "outputId": "f00bd6ae-01d1-4f4e-9a99-bee94525ba64"
      },
      "outputs": [
        {
          "name": "stdout",
          "output_type": "stream",
          "text": [
            "ahmetsargın\n",
            "ahmetfaruk\n",
            "ahmetahmet\n"
          ]
        }
      ],
      "source": [
        "def format_data(name,surname):\n",
        "  if name:\n",
        "    yield '{}{}'.format(name,surname)\n",
        "\n",
        "with beam.Pipeline() as pipeline:\n",
        "  data = (\n",
        "      pipeline\n",
        "      | 'Create' >> beam.Create([\n",
        "          ('ahmet','sargın'),\n",
        "          ('ahmet','faruk'),\n",
        "          ('ahmet','ahmet'),\n",
        "      ])\n",
        "      | 'Flatten list' >> beam.FlatMapTuple(format_data)\n",
        "      | beam.Map(print)\n",
        "  )"
      ]
    },
    {
      "cell_type": "code",
      "execution_count": 13,
      "metadata": {
        "colab": {
          "base_uri": "https://localhost:8080/"
        },
        "id": "W1Hp9uVEiT23",
        "outputId": "237d0f25-a5c2-43d6-99dd-2ff588db52d1"
      },
      "outputs": [
        {
          "name": "stdout",
          "output_type": "stream",
          "text": [
            "🍓Strawberry\n",
            "🥕Carrot\n",
            "🍆Eggplant\n",
            "🍅Tomato\n",
            "🥔Potato\n"
          ]
        }
      ],
      "source": [
        "\"\"\"\n",
        "Pipeline içinde tanımlanmış olan farklı bir koleksiyon içindeki veriyi kullanmak için.\n",
        "\"\"\"\n",
        "\n",
        "with beam.Pipeline() as pipeline:\n",
        "    delimiter = pipeline | 'Create delimiter' >> beam.Create([','])\n",
        "\n",
        "    plants = (\n",
        "        pipeline\n",
        "        | 'Gardening plants' >> beam.Create([\n",
        "            '🍓Strawberry,🥕Carrot,🍆Eggplant',\n",
        "            '🍅Tomato,🥔Potato',\n",
        "        ])\n",
        "        | 'Split words' >> beam.FlatMap(\n",
        "            lambda text,\n",
        "            delimiter: text.split(delimiter),\n",
        "            delimiter=beam.pvalue.AsSingleton(delimiter),\n",
        "        )\n",
        "        | beam.Map(print))\n",
        "    # [END flatmap_side_inputs_singleton]\n"
      ]
    },
    {
      "cell_type": "code",
      "execution_count": 14,
      "metadata": {
        "colab": {
          "base_uri": "https://localhost:8080/"
        },
        "id": "1njRbn39j5eM",
        "outputId": "5961cefc-e9f2-4706-8d8e-fc062ab7d6b8"
      },
      "outputs": [
        {
          "name": "stdout",
          "output_type": "stream",
          "text": [
            "{'icon': '🍓', 'name': 'Strawberry', 'duration': 'perennial'}\n",
            "{'icon': '🥕', 'name': 'Carrot', 'duration': 'biennial'}\n",
            "{'icon': '🍅', 'name': 'Tomato', 'duration': 'annual'}\n"
          ]
        }
      ],
      "source": [
        "def normalize_and_validate_durations(plant, valid_durations):\n",
        "    plant['duration'] = plant['duration'].lower()\n",
        "    if plant['duration'] in valid_durations:\n",
        "      yield plant\n",
        "\n",
        "with beam.Pipeline() as pipeline:\n",
        "    valid_durations = pipeline | 'Valid durations' >> beam.Create([\n",
        "        'annual',\n",
        "        'biennial',\n",
        "        'perennial',\n",
        "    ])\n",
        "\n",
        "    valid_plants = (\n",
        "        pipeline\n",
        "        | 'Gardening plants' >> beam.Create([\n",
        "            {\n",
        "                'icon': '🍓', 'name': 'Strawberry', 'duration': 'Perennial'\n",
        "            },\n",
        "            {\n",
        "                'icon': '🥕', 'name': 'Carrot', 'duration': 'BIENNIAL'\n",
        "            },\n",
        "            {\n",
        "                'icon': '🍅', 'name': 'Tomato', 'duration': 'annual'\n",
        "            },\n",
        "            {\n",
        "                'icon': '🥔', 'name': 'Potato', 'duration': 'unknown'\n",
        "            },\n",
        "        ])\n",
        "        | 'Normalize and validate durations' >> beam.FlatMap(\n",
        "            normalize_and_validate_durations,\n",
        "            valid_durations=beam.pvalue.AsIter(valid_durations),\n",
        "        )\n",
        "        | beam.Map(print))\n"
      ]
    },
    {
      "cell_type": "markdown",
      "metadata": {
        "id": "El3rOai4qpRa"
      },
      "source": [
        "# MAP FONKSİYONU KULLANIMI\n",
        "\n",
        "Map, Apache Beam içindeki bir dönüşüm işlemidir ve veri akışındaki her öğe için bir çıktı öğesi üretebilmenizi sağlar. Map işlemi, veri akışındaki her öğeyi dönüştürmek veya işlemek için kullanılır. Her girdi öğesi için yalnızca bir çıktı öğesi üretir.\n",
        "\n",
        "Map işlemi, özellikle her girdi öğesini tek bir çıktı öğesiyle değiştirmeniz veya dönüştürmeniz gereken durumlarda kullanışlıdır. Örneğin, veri akışındaki sayıları iki katına çıkartmak veya metinleri büyük harflere dönüştürmek gibi işlemlerde kullanılabilir."
      ]
    },
    {
      "cell_type": "code",
      "execution_count": 15,
      "metadata": {
        "colab": {
          "base_uri": "https://localhost:8080/"
        },
        "id": "EgcARvpHqo1Q",
        "outputId": "a8397d40-6658-42a6-a3b5-d88e16a5c986"
      },
      "outputs": [
        {
          "name": "stdout",
          "output_type": "stream",
          "text": [
            "ahmet\n",
            "\n",
            "faruk\n",
            "\n",
            "sargın\n",
            "\n"
          ]
        }
      ],
      "source": [
        "def strip_header_and_newline(text):\n",
        "  return text.strip('\\n')\n",
        "\n",
        "with beam.Pipeline() as pipeline:\n",
        "  name = (\n",
        "      pipeline\n",
        "      | 'Name' >> beam.Create([\n",
        "          'ahmet\\n',\n",
        "          'faruk\\n',\n",
        "          'sargın\\n',\n",
        "      ])\n",
        "      | beam.Map(print)\n",
        "  )"
      ]
    },
    {
      "cell_type": "markdown",
      "metadata": {
        "id": "FDMi7KHrtKx1"
      },
      "source": [
        "# REGEX\n",
        "\n",
        "Apache Beam içinde düzenli ifadeler (regex) kullanarak veriyi işlemek için beam.Regex modülünü kullanabilirsiniz. Bu modül, düzenli ifadeleri uygulamak ve veri akışındaki metinleri bu ifadelere göre işlemek için kullanılır."
      ]
    },
    {
      "cell_type": "code",
      "execution_count": 33,
      "metadata": {
        "colab": {
          "base_uri": "https://localhost:8080/"
        },
        "id": "Jb7PpGKd457r",
        "outputId": "229caa90-1b56-4f98-d820-95c6d36993e7"
      },
      "outputs": [
        {
          "name": "stdout",
          "output_type": "stream",
          "text": [
            "123-45-6789\n",
            "987-65-4321\n"
          ]
        }
      ],
      "source": [
        "\"\"\"\n",
        "Bu örnekte, regex_pattern adlı bir düzenli ifade tanımlanmış. Bu ifade, ABD'deki sosyal güvenlik numaralarını (SSN) temsil eden tipik bir formata uyar.\n",
        "Veri akışı içindeki metinler, bu düzenli ifade ile karşılaştırılır ve eşleşen metinler sonuç olarak elde edilir.\n",
        "\n",
        "beam.Regex.matches() işlemi, düzenli ifadeye uyan metinleri bir PCollection olarak döndürür. Eşleşen metinler bu PCollection içinde yer alır.\n",
        "Bu örnekte, eşleşen SSN'leri bulmak için düzenli ifade kullanıldı. Gerçek senaryolarda, farklı düzenli ifadeler kullanarak metin analizi, veri temizleme veya veri işleme işlemleri yapabilirsiniz.\n",
        "\"\"\"\n",
        "regex_pattern = r'\\d{3}-\\d{2}-\\d{4}'\n",
        "\n",
        "with beam.Pipeline() as pipeline:\n",
        "    data = pipeline | 'Create input' >> beam.Create([\n",
        "        '123-45-6789',\n",
        "        '987-65-4321',\n",
        "        'invalid-format',\n",
        "        '555-666-7777'\n",
        "    ])\n",
        "\n",
        "    matched_data = data | 'Match regex' >> beam.Regex.matches(regex_pattern)\n",
        "\n",
        "    matched_data | beam.Map(print)"
      ]
    },
    {
      "cell_type": "code",
      "execution_count": 20,
      "metadata": {
        "colab": {
          "base_uri": "https://localhost:8080/",
          "height": 147
        },
        "id": "E1n0Qukavcf-",
        "outputId": "6c694c35-ef42-4341-e719-2f6ff5584802"
      },
      "outputs": [
        {
          "name": "stdout",
          "output_type": "stream",
          "text": [
            "🍓, Strawberry, perennial\n",
            "🥕, Carrot, biennial\n",
            "🍆, Eggplant, perennial\n",
            "🍅, Tomato, annual\n",
            "🥔, Potato, perennial\n"
          ]
        },
        {
          "data": {
            "application/vnd.google.colaboratory.intrinsic+json": {
              "type": "string"
            },
            "text/plain": [
              "\"\\nBu kod parçası, Apache Beam kullanarak veriyi bir düzenli ifade (regex) kullanarak eşleştirme işlemi gerçekleştirerek,\\nregex = r'(?P<icon>[^\\\\s,]+), *(\\\\w+), *(\\\\w+)': Bu satırda, regex adlı bir düzenli ifade (regex) tanımlanır. Bu düzenli ifade, belirli bir kalıba uyan metinleri eşleştirmek için kullanılacaktır.\\n Kalıp, bir emoji (icon), ardından iki virgülle ayrılmış kelime gruplarını içerir.\\n\""
            ]
          },
          "execution_count": 20,
          "metadata": {},
          "output_type": "execute_result"
        }
      ],
      "source": [
        "# Matches a named group 'icon', and then two comma-separated groups.\n",
        "regex = r'(?P<icon>[^\\s,]+), *(\\w+), *(\\w+)'\n",
        "with beam.Pipeline() as pipeline:\n",
        "    plants_matches = (\n",
        "        pipeline\n",
        "        | 'Garden plants' >> beam.Create([\n",
        "            '🍓, Strawberry, perennial',\n",
        "            '🥕, Carrot, biennial ignoring trailing words',\n",
        "            '🍆, Eggplant, perennial',\n",
        "            '🍅, Tomato, annual',\n",
        "            '🥔, Potato, perennial',\n",
        "            '# 🍌, invalid, format',\n",
        "            'invalid, 🍉, format',\n",
        "        ])\n",
        "        | 'Parse plants' >> beam.Regex.matches(regex)\n",
        "        | beam.Map(print))\n",
        "\"\"\"\n",
        "Bu kod parçası, Apache Beam kullanarak veriyi bir düzenli ifade (regex) kullanarak eşleştirme işlemi gerçekleştirerek,\n",
        "regex = r'(?P<icon>[^\\s,]+), *(\\w+), *(\\w+)': Bu satırda, regex adlı bir düzenli ifade (regex) tanımlanır. Bu düzenli ifade, belirli bir kalıba uyan metinleri eşleştirmek için kullanılacaktır.\n",
        " Kalıp, bir emoji (icon), ardından iki virgülle ayrılmış kelime gruplarını içerir.\n",
        "\"\"\""
      ]
    },
    {
      "cell_type": "code",
      "execution_count": 18,
      "metadata": {
        "colab": {
          "base_uri": "https://localhost:8080/"
        },
        "id": "CxDwbMult-hB",
        "outputId": "5de5ca31-fe59-4e83-d5da-981266d9b037"
      },
      "outputs": [
        {
          "name": "stdout",
          "output_type": "stream",
          "text": [
            "['🍓, Strawberry, perennial', '🍓', 'Strawberry', 'perennial']\n",
            "['🥕, Carrot, biennial', '🥕', 'Carrot', 'biennial']\n",
            "['🍆, Eggplant, perennial', '🍆', 'Eggplant', 'perennial']\n",
            "['🍅, Tomato, annual', '🍅', 'Tomato', 'annual']\n",
            "['🥔, Potato, perennial', '🥔', 'Potato', 'perennial']\n"
          ]
        }
      ],
      "source": [
        "regex = r'(?P<icon>[^\\s,]+), *(\\w+), *(\\w+)'\n",
        "with beam.Pipeline() as pipeline:\n",
        "    plants_all_matches = (\n",
        "        pipeline\n",
        "        | 'Garden plants' >> beam.Create([\n",
        "            '🍓, Strawberry, perennial',\n",
        "            '🥕, Carrot, biennial ignoring trailing words',\n",
        "            '🍆, Eggplant, perennial',\n",
        "            '🍅, Tomato, annual',\n",
        "            '🥔, Potato, perennial',\n",
        "            '# 🍌, invalid, format',\n",
        "            'invalid, 🍉, format',\n",
        "        ])\n",
        "        | 'Parse plants' >> beam.Regex.all_matches(regex)\n",
        "        | beam.Map(print))"
      ]
    },
    {
      "cell_type": "code",
      "execution_count": 21,
      "metadata": {
        "colab": {
          "base_uri": "https://localhost:8080/"
        },
        "id": "3Lr-KsnJvJ-T",
        "outputId": "2826bf85-ab32-4c07-f89f-d01b33b1918e"
      },
      "outputs": [
        {
          "name": "stdout",
          "output_type": "stream",
          "text": [
            "🍓,Strawberry,perennial\n",
            "🥕,Carrot,biennial\n",
            "🍆,Eggplant,perennial\n",
            "🍅,Tomato,annual\n",
            "🥔,Potato,perennial\n"
          ]
        }
      ],
      "source": [
        "with beam.Pipeline() as pipeline:\n",
        "    plants_replace_all = (\n",
        "        pipeline\n",
        "        | 'Garden plants' >> beam.Create([\n",
        "            '🍓 : Strawberry : perennial',\n",
        "            '🥕 : Carrot : biennial',\n",
        "            '🍆\\t:\\tEggplant\\t:\\tperennial',\n",
        "            '🍅 : Tomato : annual',\n",
        "            '🥔 : Potato : perennial',\n",
        "        ])\n",
        "        | 'To CSV' >> beam.Regex.replace_all(r'\\s*:\\s*', ',')\n",
        "        | beam.Map(print))"
      ]
    },
    {
      "cell_type": "code",
      "execution_count": 22,
      "metadata": {
        "colab": {
          "base_uri": "https://localhost:8080/"
        },
        "id": "RzLjFGVAvRBe",
        "outputId": "45e6575e-7aab-44f7-be86-fc2f0bce8f77"
      },
      "outputs": [
        {
          "name": "stdout",
          "output_type": "stream",
          "text": [
            "🍓: Strawberry, perennial\n",
            "🥕: Carrot, biennial\n",
            "🍆: Eggplant, perennial\n",
            "🍅: Tomato, annual\n",
            "🥔: Potato, perennial\n"
          ]
        }
      ],
      "source": [
        "with beam.Pipeline() as pipeline:\n",
        "    plants_replace_first = (\n",
        "        pipeline\n",
        "        | 'Garden plants' >> beam.Create([\n",
        "            '🍓, Strawberry, perennial',\n",
        "            '🥕, Carrot, biennial',\n",
        "            '🍆,\\tEggplant, perennial',\n",
        "            '🍅, Tomato, annual',\n",
        "            '🥔, Potato, perennial',\n",
        "        ])\n",
        "        | 'As dictionary' >> beam.Regex.replace_first(r'\\s*,\\s*', ': ')\n",
        "        | beam.Map(print))\n"
      ]
    },
    {
      "cell_type": "code",
      "execution_count": 23,
      "metadata": {
        "colab": {
          "base_uri": "https://localhost:8080/"
        },
        "id": "7_c3xqdEvZ1A",
        "outputId": "f61875a5-50c8-4d63-c3ee-8c6eab17ff1e"
      },
      "outputs": [
        {
          "name": "stdout",
          "output_type": "stream",
          "text": [
            "['🍓', 'Strawberry', 'perennial']\n",
            "['🥕', 'Carrot', 'biennial']\n",
            "['🍆', 'Eggplant', 'perennial']\n",
            "['🍅', 'Tomato', 'annual']\n",
            "['🥔', 'Potato', 'perennial']\n"
          ]
        }
      ],
      "source": [
        "with beam.Pipeline() as pipeline:\n",
        "    plants_split = (\n",
        "        pipeline\n",
        "        | 'Garden plants' >> beam.Create([\n",
        "            '🍓 : Strawberry : perennial',\n",
        "            '🥕 : Carrot : biennial',\n",
        "            '🍆\\t:\\tEggplant : perennial',\n",
        "            '🍅 : Tomato : annual',\n",
        "            '🥔 : Potato : perennial',\n",
        "        ])\n",
        "        | 'Parse plants' >> beam.Regex.split(r'\\s*:\\s*')\n",
        "        | beam.Map(print))"
      ]
    },
    {
      "cell_type": "markdown",
      "metadata": {
        "id": "MFPgjPnR3rXg"
      },
      "source": [
        "# ParDo\n",
        "\n",
        "ParDo, Apache Beam içindeki temel bir dönüşüm işlemidir. \"Paralel Do\"nun kısaltmasıdır ve veri akışındaki her öğe üzerinde özel bir işlem yapmanızı sağlar. Map işlemi gibi, her girdi öğesi için bir çıktı öğesi üretir. Ancak ParDo, daha karmaşık işlemler yapmak ve yan etkiler (side effects) oluşturmak için daha esnek bir seçenektir.\n",
        "\n",
        "ParDo işlemi, bir fonksiyonu (ParDo işlevi veya ParDo fonksiyonu) her girdi öğesi için çağırarak çalışır. Bu fonksiyon, veri akışındaki öğeleri işleyebilir, yeni öğeler üretebilir ve yan etkiler oluşturabilir."
      ]
    },
    {
      "cell_type": "code",
      "execution_count": 32,
      "metadata": {
        "colab": {
          "base_uri": "https://localhost:8080/"
        },
        "id": "7wK3YFUr4wm5",
        "outputId": "29a40694-b025-4e6a-dc79-e1e9c0ef6c4b"
      },
      "outputs": [
        {
          "name": "stdout",
          "output_type": "stream",
          "text": [
            "HELLO\n",
            "WORLD\n",
            "APACHE\n",
            "BEAM\n"
          ]
        }
      ],
      "source": [
        "class ToUpper(beam.DoFn):\n",
        "    def process(self, element):\n",
        "        return [element.upper()]\n",
        "\n",
        "with beam.Pipeline() as pipeline:\n",
        "    input_data = pipeline | 'Create input' >> beam.Create(['hello', 'world', 'apache', 'beam'])\n",
        "\n",
        "    uppercased_data = input_data | 'Convert to uppercase' >> beam.ParDo(ToUpper())\n",
        "\n",
        "    uppercased_data | beam.Map(print)"
      ]
    },
    {
      "cell_type": "code",
      "execution_count": 40,
      "metadata": {
        "colab": {
          "base_uri": "https://localhost:8080/"
        },
        "id": "Fanf4HMV5UAG",
        "outputId": "0a3b7961-81d2-4a0b-8f6e-73a1b559f2c5"
      },
      "outputs": [
        {
          "name": "stdout",
          "output_type": "stream",
          "text": [
            "🍓Strawberry\n",
            "🥕Carrot\n",
            "🍆Eggplant\n",
            "🍅Tomato\n",
            "🥔Potato\n"
          ]
        }
      ],
      "source": [
        "import apache_beam as beam\n",
        "from collections import Counter\n",
        "\n",
        "class SplitWords(beam.DoFn):\n",
        "    def __init__(self, delimiter=','): #Dataları neye göre ayıracağımızı belirtiyoruz\n",
        "      self.delimiter = delimiter\n",
        "\n",
        "    def process(self, text):\n",
        "      for word in text.split(self.delimiter):\n",
        "        yield word  \"\"\"Bir fonksiyon içinde yield ifadesi kullanıldığında, fonksiyon artık bir jeneratör olarak kabul edilir. yield ifadesi,\n",
        "                        fonksiyonun bir değeri ürettiği ve geçici olarak çalışmayı duraklattığı bir noktadır.\n",
        "                          Jeneratör bu duraklamayı hatırlar ve bir sonraki çağrıda nerede kaldığını bilir.\"\"\"\n",
        "\n",
        "with beam.Pipeline() as pipeline:\n",
        "    plants = (\n",
        "        pipeline\n",
        "        | 'Gardening plants' >> beam.Create([\n",
        "            '🍓Strawberry,🥕Carrot,🍆Eggplant',\n",
        "            '🍅Tomato,🥔Potato',\n",
        "        ])\n",
        "        | 'Split words' >> beam.ParDo(SplitWords(','))\n",
        "        | beam.Map(print))"
      ]
    }
  ],
  "metadata": {
    "colab": {
      "provenance": []
    },
    "kernelspec": {
      "display_name": "Python 3",
      "language": "python",
      "name": "python3"
    },
    "language_info": {
      "name": "python",
      "version": "3.10.8 (main, Oct 21 2022, 08:20:10) [GCC 9.4.0]"
    },
    "vscode": {
      "interpreter": {
        "hash": "7e1998ff7f8aa20ada591c520b972326324e5ea05489af9e422744c7c09f6dad"
      }
    }
  },
  "nbformat": 4,
  "nbformat_minor": 0
}
